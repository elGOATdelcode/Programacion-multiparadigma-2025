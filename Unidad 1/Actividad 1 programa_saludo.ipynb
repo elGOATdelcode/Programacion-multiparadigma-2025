{
  "nbformat": 4,
  "nbformat_minor": 0,
  "metadata": {
    "colab": {
      "provenance": [],
      "authorship_tag": "ABX9TyMcyNAij5kjpQkAPM01umDY"
    },
    "kernelspec": {
      "name": "python3",
      "display_name": "Python 3"
    },
    "language_info": {
      "name": "python"
    }
  },
  "cells": [
    {
      "cell_type": "markdown",
      "source": [
        "Actividad 1\n"
      ],
      "metadata": {
        "id": "xpaokAPhTDc7"
      }
    },
    {
      "cell_type": "code",
      "source": [
        "nombre = input(\"Ingrese su nombre: \")\n",
        "edad = int(input(\"Ingrese su edad: \"))\n",
        "\n",
        "print(\"Hola\", nombre, \"tienes\", edad, \"años\")"
      ],
      "metadata": {
        "colab": {
          "base_uri": "https://localhost:8080/"
        },
        "id": "Z16C9BO5Tw8B",
        "outputId": "75dbf27b-01cf-4a0f-e91e-ecf2c0be154b"
      },
      "execution_count": 2,
      "outputs": [
        {
          "output_type": "stream",
          "name": "stdout",
          "text": [
            "Ingrese su nombre: angel\n",
            "Ingrese su edad: 21\n",
            "Hola angel tienes 21 años\n"
          ]
        }
      ]
    },
    {
      "cell_type": "code",
      "source": [
        "print(\"Hola, este es mi primer programa en Python\")"
      ],
      "metadata": {
        "colab": {
          "base_uri": "https://localhost:8080/"
        },
        "id": "wmttJUlbTmyZ",
        "outputId": "f41f63cf-26d7-46c7-c67a-c1c0b1decf13"
      },
      "execution_count": 1,
      "outputs": [
        {
          "output_type": "stream",
          "name": "stdout",
          "text": [
            "Hola, este es mi primer programa en Python\n"
          ]
        }
      ]
    },
    {
      "cell_type": "code",
      "execution_count": null,
      "metadata": {
        "id": "aJHYb0S4S_nD"
      },
      "outputs": [],
      "source": []
    }
  ]
}
